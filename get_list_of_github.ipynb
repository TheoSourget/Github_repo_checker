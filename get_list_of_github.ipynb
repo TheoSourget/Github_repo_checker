{
 "cells": [
  {
   "cell_type": "markdown",
   "metadata": {},
   "source": [
    "## Get the list with open-source repo from MICCAI"
   ]
  },
  {
   "cell_type": "markdown",
   "metadata": {},
   "source": [
    "### Clone the github referencing the papers\n",
    "https://github.com/JunMa11/MICCAI-OpenSourcePapers"
   ]
  },
  {
   "cell_type": "code",
   "execution_count": 3,
   "metadata": {},
   "outputs": [
    {
     "name": "stdout",
     "output_type": "stream",
     "text": [
      "Cloning into 'MICCAI-OpenSourcePapers'...\n",
      "remote: Enumerating objects: 178, done.\u001b[K\n",
      "remote: Counting objects: 100% (40/40), done.\u001b[K\n",
      "remote: Compressing objects: 100% (34/34), done.\u001b[K\n",
      "remote: Total 178 (delta 19), reused 10 (delta 6), pack-reused 138\u001b[K\n",
      "Receiving objects: 100% (178/178), 2.84 MiB | 329.00 KiB/s, done.\n",
      "Resolving deltas: 100% (71/71), done.\n"
     ]
    }
   ],
   "source": [
    "!rm -rf MICCAI-OpenSourcePapers\n",
    "!git clone https://github.com/JunMa11/MICCAI-OpenSourcePapers "
   ]
  },
  {
   "cell_type": "markdown",
   "metadata": {},
   "source": [
    "## Extract links from markdown files"
   ]
  },
  {
   "cell_type": "code",
   "execution_count": 24,
   "metadata": {},
   "outputs": [],
   "source": [
    "import glob\n",
    "import re\n",
    "import markdown\n",
    "from lxml import etree\n",
    "\n",
    "for md_file_path in glob.glob(\"./MICCAI-OpenSourcePapers/*.md\"):\n",
    "    lst_links = []\n",
    "    with open(md_file_path,\"r\") as md_file:\n",
    "        md = markdown.Markdown()\n",
    "        html1 = md.convert(md_file.read())\n",
    "        regex_links = '\"https://github.com/.*\"'\n",
    "        matches = re.findall(regex_links,html1)\n",
    "        for match in matches:\n",
    "            lst_links.append(match.replace('\"',''))"
   ]
  },
  {
   "cell_type": "markdown",
   "metadata": {},
   "source": [
    "## Save the results in a csv"
   ]
  },
  {
   "cell_type": "code",
   "execution_count": 26,
   "metadata": {},
   "outputs": [],
   "source": [
    "with open(\"github_links.csv\",\"w\") as csv_file:\n",
    "    csv_file.write(\"link\")\n",
    "    for link in lst_links:\n",
    "        csv_file.write(f\"\\n{link}\")"
   ]
  }
 ],
 "metadata": {
  "kernelspec": {
   "display_name": "DataInTheWild",
   "language": "python",
   "name": "python3"
  },
  "language_info": {
   "codemirror_mode": {
    "name": "ipython",
    "version": 3
   },
   "file_extension": ".py",
   "mimetype": "text/x-python",
   "name": "python",
   "nbconvert_exporter": "python",
   "pygments_lexer": "ipython3",
   "version": "3.12.0"
  }
 },
 "nbformat": 4,
 "nbformat_minor": 2
}
